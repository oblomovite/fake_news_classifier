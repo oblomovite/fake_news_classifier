{
 "cells": [
  {
   "cell_type": "markdown",
   "metadata": {},
   "source": [
    "# Overview\n",
    "The goal of this project is to perform classification of written media as misinformation or not.\n"
   ]
  },
  {
   "cell_type": "markdown",
   "metadata": {},
   "source": [
    "## Fetch Data\n",
    "The [notebook](./index.ipynb) uses a [script](./download_datasets.sh) to automatically fetch the data for the project. It can be run manually to inspect the data beforehand by executing the following command:\n",
    "```bash\n",
    "chmod +x download_datasets.sh\n",
    "sh download_datasets.sh\n",
    "```"
   ]
  },
  {
   "cell_type": "markdown",
   "metadata": {},
   "source": [
    "## setup for NLP tools\n",
    "In order to make full use of our NLP tooling we will install \n",
    "    - `punkt` for tokenization \n",
    "    - `stopwords` for removing common words\n",
    "    - `en_core_web_sm` for named entity recognition"
   ]
  },
  {
   "cell_type": "code",
   "execution_count": null,
   "metadata": {
    "vscode": {
     "languageId": "plaintext"
    }
   },
   "outputs": [],
   "source": [
    "!python -m nltk.downloader punkt stopwords\n",
    "!python -m spacy download en_core_web_sm"
   ]
  }
 ],
 "metadata": {
  "language_info": {
   "name": "python"
  }
 },
 "nbformat": 4,
 "nbformat_minor": 2
}
